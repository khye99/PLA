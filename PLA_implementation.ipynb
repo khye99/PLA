{
 "cells": [
  {
   "cell_type": "markdown",
   "metadata": {},
   "source": [
    "# Homework 1 Code"
   ]
  },
  {
   "cell_type": "code",
   "execution_count": 4,
   "metadata": {
    "colab": {},
    "colab_type": "code",
    "id": "nvle6XQTWWrZ"
   },
   "outputs": [],
   "source": [
    "# Add import statements here\n",
    "import numpy as np\n",
    "import matplotlib.pyplot as plt \n",
    "from numpy import linalg as LA"
   ]
  },
  {
   "cell_type": "markdown",
   "metadata": {
    "colab_type": "text",
    "id": "becadmSx8_Aw"
   },
   "source": [
    "## Perceptron Learning\n",
    "\n",
    "The `perceptron_learn` function runs the Perceptron Learning Algorithm on input data.\n",
    "\n",
    "Inputs: \n",
    "* `data_in` is a matrix with each row representing an $(x, y)$ pair; the $x$ vector is augmented with a leading 1, the label, $y$, is in the last column. \n",
    "Outputs:\n",
    "The function outputs a tuple, `(w, iterations)`, where: \n",
    "* `w` is the learned weight vector; it should linearly separate the data if it is linearly separable.\n",
    "* `iterations` is the number of iterations the algorithm ran for. "
   ]
  },
  {
   "cell_type": "code",
   "execution_count": 3,
   "metadata": {
    "colab": {},
    "colab_type": "code",
    "id": "RSIE8o_7-nMI"
   },
   "outputs": [],
   "source": [
    "def same(a, b):\n",
    "    for i in range(len(a)):\n",
    "        if a[i] != b[i]:\n",
    "            return False\n",
    "    return True\n",
    "        \n",
    "def firstDifIndex(a, b):\n",
    "    for i in range(len(a)):\n",
    "        if a[i] != b[i]:\n",
    "            return i\n",
    "        \n",
    "def hyp(w, x):\n",
    "    val = np.dot(w, x.transpose())\n",
    "    return np.sign(val)\n",
    "    \n",
    "def perceptron_learn(data_in):\n",
    "    x = data_in[:, 0:-1]\n",
    "    y = data_in[:, -1].reshape(len(data_in),1)\n",
    "    w = np.zeros(shape=len(x[0]))\n",
    "\n",
    "    iterations = 0\n",
    "    \n",
    "    h = hyp(w,x)\n",
    "    while not same(h, y):\n",
    "        # for a row such that x is not equal\n",
    "        i = firstDifIndex(h, y)\n",
    "        w = w + y[i]*x[i]\n",
    "        h = hyp(w, x)\n",
    "        iterations += 1\n",
    "\n",
    "    return w, iterations"
   ]
  },
  {
   "cell_type": "code",
   "execution_count": 4,
   "metadata": {},
   "outputs": [],
   "source": [
    "# dummy test data\n",
    "# w_star = np.random.rand(1, 2)\n",
    "# w_star = np.insert(w_star, 0, 0, axis=1) #add 0 as first dimension\n",
    "\n",
    "# # print(\"w_star\", w_star)\n",
    "\n",
    "# training = np.random.uniform(-1, 1, (5, 2))\n",
    "# training = np.insert(training, 0, 1, axis=1) #add 1 as first dimension to each example\n",
    "\n",
    "# y = np.sign(np.dot(w_star, training.transpose()))\n",
    "# matrix = np.insert(training, len(training[0]), y, axis=1) #make y the last column\n",
    "\n",
    "# # print(\"matrix\\n\", matrix)\n",
    "\n",
    "# w, it = perceptron_learn(matrix)\n",
    "# print(w)\n",
    "# it\n",
    "\n",
    "# a = [[1,2,3],\n",
    "#     [2,3,4],\n",
    "#     [3,4,5]]\n",
    "\n",
    "# b = LA.norm(a, axis=1)\n",
    "# print(\"b\", b)\n",
    "# c = np.max(b)\n",
    "# c"
   ]
  },
  {
   "cell_type": "markdown",
   "metadata": {
    "colab_type": "text",
    "id": "49dBCflt_YHw"
   },
   "source": [
    "# Perceptron Experiment\n",
    "Code for running the perceptron experiment in HW1. \n",
    "\n",
    "Inputs: \n",
    "* `N` is the number of training examples\n",
    "* `d` is the dimensionality of each example (before adding the 1)\n",
    "* `num_samples` is the number of times to repeat the experiment\n",
    "\n",
    "Outputs:\n",
    "* `num_iters` is the number of iterations the Perceptron Learning Algorithm takes for each sample\n",
    "* `bound_minus_ni` is the difference between the theoretical bound and the actual number of iterations\n",
    "\n",
    "Both outputs should be `num_samples` long."
   ]
  },
  {
   "cell_type": "code",
   "execution_count": 65,
   "metadata": {
    "colab": {},
    "colab_type": "code",
    "id": "Jk1iKwL7AirD"
   },
   "outputs": [],
   "source": [
    "def perceptron_experiment(N, d, num_samples):\n",
    "\n",
    "    # Your code here, assign the values to num_iters and bounds_minus_ni:\n",
    "    num_iters = []\n",
    "    weights = []\n",
    "    bounds = []\n",
    "    \n",
    "    for sample in range(num_samples):\n",
    "        # generate a new sample\n",
    "        w_star = np.insert(np.random.rand(1, d), 0, 0, axis=1) #add 0 as first dimension\n",
    "        training = np.insert(np.random.uniform(-1, 1, (N, d)), 0, 1, axis=1) #add 1 as first dimension to each example\n",
    "        y = np.sign(np.dot(w_star, training.transpose()))\n",
    "        matrix = np.insert(training, len(training[0]), y, axis=1) #make y the last column\n",
    "        \n",
    "        # calculate weights and # of iterations\n",
    "        w, its = perceptron_learn(matrix)\n",
    "        \n",
    "        weights.append(w)\n",
    "        num_iters.append(its)\n",
    "        \n",
    "        # calculate bound for each sample\n",
    "        R_2 = np.max(LA.norm(training, axis=1))**2\n",
    "        w_star_2 = LA.norm(w_star)**2\n",
    "        rho_2 = np.min(np.dot(w_star, training.transpose()))**2\n",
    "        bound = (R_2*w_star_2) / rho_2\n",
    "        \n",
    "        bounds.append(bound)\n",
    "        \n",
    "    bounds_minus_ni = [np.abs(a - b) for a, b in zip(bounds, num_iters)]\n",
    "\n",
    "    return num_iters, bounds_minus_ni"
   ]
  },
  {
   "cell_type": "markdown",
   "metadata": {
    "colab_type": "text",
    "id": "w3wzw3SvB5mE"
   },
   "source": [
    "## Run and Plot\n",
    "\n",
    "Run the code below"
   ]
  },
  {
   "cell_type": "code",
   "execution_count": 66,
   "metadata": {
    "colab": {},
    "colab_type": "code",
    "id": "4gXvSa5MVKfg"
   },
   "outputs": [
    {
     "data": {
      "image/png": "[encoded data removed]",
      "text/plain": [
       "<Figure size 432x288 with 1 Axes>"
      ]
     },
     "metadata": {
      "needs_background": "light"
     },
     "output_type": "display_data"
    }
   ],
   "source": [
    "num_iters, bounds_minus_ni = perceptron_experiment(100, 10, 1000)\n",
    "\n",
    "plt.hist(num_iters, bins = 30)\n",
    "plt.title('Iteration Count')\n",
    "plt.xlabel('Number of Iterations for Each Sample')\n",
    "plt.ylabel('Count')\n",
    "plt.show()"
   ]
  },
  {
   "cell_type": "code",
   "execution_count": 54,
   "metadata": {
    "scrolled": true
   },
   "outputs": [
    {
     "data": {
      "image/png": "[encoded data removed]",
      "text/plain": [
       "<Figure size 432x288 with 1 Axes>"
      ]
     },
     "metadata": {
      "needs_background": "light"
     },
     "output_type": "display_data"
    }
   ],
   "source": [
    "plt.hist(np.log(bounds_minus_ni), bins = 10)\n",
    "plt.title('Difference b/t Bounds and Iterations')\n",
    "plt.xlabel('Log Difference')\n",
    "plt.ylabel('Count')\n",
    "plt.show()"
   ]
  },
  {
   "cell_type": "markdown",
   "metadata": {},
   "source": [
    "# Interpretation\n",
    "\n",
    "The difference is roughly normally distributed. This means the amount of time it takes for PLA to converge is roughly the same across iterations, it's going to be on average close to the mean. In conclusion,"
   ]
  }
 ],
 "metadata": {
  "colab": {
   "name": "hw1_code.ipynb",
   "provenance": []
  },
  "kernelspec": {
   "display_name": "Python 3",
   "language": "python",
   "name": "python3"
  },
  "language_info": {
   "codemirror_mode": {
    "name": "ipython",
    "version": 3
   },
   "file_extension": ".py",
   "mimetype": "text/x-python",
   "name": "python",
   "nbconvert_exporter": "python",
   "pygments_lexer": "ipython3",
   "version": "3.7.6"
  }
 },
 "nbformat": 4,
 "nbformat_minor": 1
}
